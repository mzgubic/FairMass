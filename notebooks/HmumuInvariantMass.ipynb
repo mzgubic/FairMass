{
 "cells": [
  {
   "cell_type": "code",
   "execution_count": null,
   "metadata": {},
   "outputs": [],
   "source": [
    "import os\n",
    "import tensorflow as tf\n",
    "import numpy as np\n",
    "import matplotlib.pyplot as plt\n",
    "from sklearn.feature_selection import mutual_info_regression\n",
    "\n",
    "import sys\n",
    "sys.path.insert(0, '../fairml')\n",
    "import plotting\n",
    "import generate as G\n",
    "import models\n",
    "import actions\n",
    "import utils"
   ]
  },
  {
   "cell_type": "markdown",
   "metadata": {},
   "source": [
    "# Generate the data"
   ]
  },
  {
   "cell_type": "code",
   "execution_count": null,
   "metadata": {
    "scrolled": false
   },
   "outputs": [],
   "source": [
    "# get the scalers, and the convenince function\n",
    "x_scaler, z_scaler, generate = G.generate_hmumu()\n",
    "\n",
    "# generate test data (a large, one time only thing)\n",
    "n_test_samples = 5\n",
    "X, Y, Z, W = generate(n_test_samples)\n",
    "print(X.shape)\n",
    "print(Y.shape)\n",
    "print(Z.shape)"
   ]
  },
  {
   "cell_type": "markdown",
   "metadata": {},
   "source": [
    "# Non-adversarial training of a classifier"
   ]
  },
  {
   "cell_type": "code",
   "execution_count": null,
   "metadata": {},
   "outputs": [],
   "source": [
    "sess = tf.InteractiveSession()\n",
    "ctr = 0"
   ]
  },
  {
   "cell_type": "code",
   "execution_count": null,
   "metadata": {},
   "outputs": [],
   "source": [
    "n_samples = 1000\n",
    "n_epochs = 100\n",
    "learning_rate = 0.01\n",
    "ctr+=1\n",
    "name = 'name'+str(ctr)\n",
    "\n",
    "# input placeholders\n",
    "x_in = tf.placeholder(tf.float32, shape=(None, X.shape[1]), name='X1_X2')\n",
    "y_in = tf.placeholder(tf.float32, shape=(None, ), name='Y')\n",
    "z_in = tf.placeholder(tf.float32, shape=(None, ), name='Z')\n",
    "w_in = tf.placeholder(tf.float32, shape=(None, ), name='W')\n",
    "inputs = [x_in, y_in, z_in, w_in]\n",
    "\n",
    "# create the classifier graph, loss, and optimisation\n",
    "clf_output, vars_D = models.classifier(x_in, name)\n",
    "loss_D = models.classifier_loss(clf_output, y_in, w_in)\n",
    "opt_D = tf.train.AdamOptimizer(learning_rate=learning_rate).minimize(loss_D, var_list=vars_D)\n",
    "\n",
    "# train the classifier\n",
    "sess.run(tf.global_variables_initializer())\n",
    "actions.train(sess, opt_D, loss_D, inputs, generate, n_samples, n_epochs, 'Classifier Loss (L_D)')\n",
    "\n",
    "# plot the performance of the classifier\n"
   ]
  },
  {
   "cell_type": "code",
   "execution_count": null,
   "metadata": {},
   "outputs": [],
   "source": []
  }
 ],
 "metadata": {
  "kernelspec": {
   "display_name": "Python (tf)",
   "language": "python",
   "name": "tf"
  },
  "language_info": {
   "codemirror_mode": {
    "name": "ipython",
    "version": 3
   },
   "file_extension": ".py",
   "mimetype": "text/x-python",
   "name": "python",
   "nbconvert_exporter": "python",
   "pygments_lexer": "ipython3",
   "version": "3.6.6"
  }
 },
 "nbformat": 4,
 "nbformat_minor": 2
}
