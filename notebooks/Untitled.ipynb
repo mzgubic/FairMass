{
 "cells": [
  {
   "cell_type": "code",
   "execution_count": null,
   "metadata": {},
   "outputs": [],
   "source": [
    "import tensorflow as tf\n",
    "\n",
    "import sys\n",
    "sys.path.insert(0, '../fairml')\n",
    "import plot\n",
    "import generate\n",
    "import models\n",
    "import environment\n",
    "\n",
    "ctr=1\n",
    "generate_toys = generate.toys_simple"
   ]
  },
  {
   "cell_type": "code",
   "execution_count": null,
   "metadata": {
    "scrolled": false
   },
   "outputs": [],
   "source": [
    "# settings\n",
    "ctr+=1\n",
    "\n",
    "clf_settings = {'depth':3, 'width':10}\n",
    "adv_settings = {'adv_type':'GMM'}\n",
    "opt_settings = {'lam':100, 'opt_type':'AdamOptimizer', 'learning_rate':0.005}\n",
    "\n",
    "# make the environment\n",
    "tfe = environment.TFEnvironment(generate_toys, 'tf_env_{}'.format(ctr))\n",
    "tfe.build_graph(clf_settings, adv_settings)\n",
    "tfe.build_loss()\n",
    "tfe.build_opt(**opt_settings)\n",
    "tfe.initialise_variables()\n",
    "\n",
    "# pretrain\n",
    "batch_size = 10000\n",
    "n_pretrain = 20\n",
    "for _ in range(n_pretrain):\n",
    "    tfe.pretrain_step_clf(batch_size, write=True)\n",
    "for _ in range(n_pretrain):\n",
    "    tfe.train_step_adv(batch_size, write=True)\n",
    "    \n",
    "# train\n",
    "batch_size = 1000\n",
    "n_train = 200\n",
    "for i in range(n_train):\n",
    "    \n",
    "    tfe.train_step_clf(batch_size)\n",
    "    for __ in range(5):\n",
    "        tfe.train_step_adv(batch_size)\n",
    "\n",
    "# plot results\n",
    "tfe.show_history()\n",
    "tfe.show_performance(10000)\n",
    "tfe.show_variates(10000)\n",
    " \n"
   ]
  },
  {
   "cell_type": "code",
   "execution_count": null,
   "metadata": {},
   "outputs": [],
   "source": []
  },
  {
   "cell_type": "code",
   "execution_count": null,
   "metadata": {},
   "outputs": [],
   "source": []
  }
 ],
 "metadata": {
  "kernelspec": {
   "display_name": "Python (tf)",
   "language": "python",
   "name": "tf"
  },
  "language_info": {
   "codemirror_mode": {
    "name": "ipython",
    "version": 3
   },
   "file_extension": ".py",
   "mimetype": "text/x-python",
   "name": "python",
   "nbconvert_exporter": "python",
   "pygments_lexer": "ipython3",
   "version": "3.6.6"
  }
 },
 "nbformat": 4,
 "nbformat_minor": 2
}
