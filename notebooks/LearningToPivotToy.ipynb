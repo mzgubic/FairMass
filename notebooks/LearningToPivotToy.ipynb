{
 "cells": [
  {
   "cell_type": "code",
   "execution_count": null,
   "metadata": {},
   "outputs": [],
   "source": [
    "import tensorflow as tf\n",
    "\n",
    "import sys\n",
    "sys.path.insert(0, '../fairml')\n",
    "import plotting\n",
    "import generate\n",
    "import models\n",
    "import actions\n",
    "import utils"
   ]
  },
  {
   "cell_type": "markdown",
   "metadata": {},
   "source": [
    "# Generate the data\n",
    "\n",
    "according to:\n",
    "\n",
    "x ~ N((0,0), [[1, -0.5],[-0.5, 1]]) when Y == 0\n",
    "\n",
    "x ~ N((1,1+z), [[1,0],[0,1]]) when Y == 1\n",
    "\n",
    "where Z has a Gaussian prior z ~ N(0,1)"
   ]
  },
  {
   "cell_type": "code",
   "execution_count": null,
   "metadata": {},
   "outputs": [],
   "source": [
    "# choose the generate function\n",
    "generate_toys = generate.toys_simple\n",
    "Optimizer = tf.train.AdamOptimizer\n",
    "Optimizer = tf.train.GradientDescentOptimizer\n",
    "\n",
    "X, Y, Z = generate_toys(4000)\n",
    "plotting.plot_toy_variates(X, Y, Z)"
   ]
  },
  {
   "cell_type": "code",
   "execution_count": null,
   "metadata": {},
   "outputs": [],
   "source": [
    "# generate test data (a large, one time only thing)\n",
    "n_test_samples = 100000\n",
    "\n",
    "X, Y, Z = generate_toys(n_test_samples)\n",
    "X1, Y1, Z1 = generate_toys(n_test_samples, z=1)\n",
    "X0, Y0, Z0 = generate_toys(n_test_samples, z=0)\n",
    "X_1, Y_1, Z_1 = generate_toys(n_test_samples, z=-1)\n",
    "\n",
    "test_data = {}\n",
    "test_data['all Z'] = X, Y, Z\n",
    "test_data['Z=1'] = X1, Y1, Z1\n",
    "test_data['Z=0'] = X0, Y0, Z0\n",
    "test_data['Z=-1'] = X_1, Y_1, Z_1"
   ]
  },
  {
   "cell_type": "markdown",
   "metadata": {},
   "source": [
    "# Train a classifier without the adversary\n",
    "\n",
    "Trains a classifier f(X) that gives p(f(X)) which depends on Z, i.e. p(f(X)|Z=z). "
   ]
  },
  {
   "cell_type": "code",
   "execution_count": null,
   "metadata": {},
   "outputs": [],
   "source": [
    "sess = tf.InteractiveSession()\n",
    "ctr = 0"
   ]
  },
  {
   "cell_type": "code",
   "execution_count": null,
   "metadata": {
    "scrolled": false
   },
   "outputs": [],
   "source": [
    "n_samples = 10000\n",
    "n_epochs = 50\n",
    "ctr+=1\n",
    "name = 'name'+str(ctr)\n",
    "    \n",
    "# input placeholders\n",
    "x_in = tf.placeholder(tf.float32, shape=(None, 2), name='X1_X2')\n",
    "y_in = tf.placeholder(tf.float32, shape=(None, ), name='Y')\n",
    "z_in = tf.placeholder(tf.float32, shape=(None, ), name='Z')\n",
    "inputs = [x_in, y_in, z_in]\n",
    "\n",
    "# create the classifier graph, loss, and optimisation\n",
    "clf_output, vars_D = models.classifier(x_in, name)\n",
    "loss_D = models.classifier_loss(clf_output, y_in)\n",
    "opt_D = Optimizer(learning_rate=0.05).minimize(loss_D, var_list=vars_D)\n",
    "\n",
    "# train the classifier\n",
    "sess.run(tf.global_variables_initializer())\n",
    "actions.train(sess, opt_D, loss_D, inputs, generate_toys, n_samples, n_epochs, 'Classifier Loss (L_D)')\n",
    "\n",
    "# plot the performance of the classifier\n",
    "pred = utils.sigmoid(sess.run(clf_output, feed_dict={x_in:X, y_in:Y}))\n",
    "pred1 = utils.sigmoid(sess.run(clf_output, feed_dict={x_in:X1, y_in:Y1}))\n",
    "pred0 = utils.sigmoid(sess.run(clf_output, feed_dict={x_in:X0, y_in:Y0}))\n",
    "pred_1 = utils.sigmoid(sess.run(clf_output, feed_dict={x_in:X_1, y_in:Y_1}))\n",
    "test_data['preds'] = pred, pred1, pred0, pred_1\n",
    "plotting.plot_classifier_performance(test_data, 'media/plots/classifier')"
   ]
  },
  {
   "cell_type": "markdown",
   "metadata": {},
   "source": [
    "# Adversarial training (GaussMix)\n",
    "\n",
    "Train adversarially against GaussMix adversary (same as pivoting paper)."
   ]
  },
  {
   "cell_type": "code",
   "execution_count": null,
   "metadata": {},
   "outputs": [],
   "source": [
    "n_samples = 10000\n",
    "n_epochs = 30\n",
    "n_adv_cycles = 200\n",
    "learning_rate = 0.05\n",
    "n_components = 5\n",
    "n_clf = 1\n",
    "n_adv = 5\n",
    "lam = 100"
   ]
  },
  {
   "cell_type": "code",
   "execution_count": null,
   "metadata": {
    "scrolled": false
   },
   "outputs": [],
   "source": [
    "\n",
    "ctr+=1\n",
    "name = 'name'+str(ctr)\n",
    "    \n",
    "# input placeholders\n",
    "x_in = tf.placeholder(tf.float32, shape=(None, 2), name='X12')\n",
    "y_in = tf.placeholder(tf.float32, shape=(None, ), name='Y')\n",
    "z_in = tf.placeholder(tf.float32, shape=(None, ), name='Z')\n",
    "inputs = [x_in, y_in, z_in]\n",
    "\n",
    "# create the classifier graph, loss, and optimisation\n",
    "clf_output, vars_D = models.classifier(x_in, name+'_clf')\n",
    "loss_D = models.classifier_loss(clf_output, y_in)\n",
    "opt_D = Optimizer(learning_rate=learning_rate).minimize(loss_D, var_list=vars_D)\n",
    "\n",
    "# create the adversary graph, loss, and optimisation\n",
    "adv_output, vars_R = models.adversary_gaussmix(clf_output, n_components, name+'_adv')\n",
    "loss_R = models.adversary_gaussmix_loss(z_in, adv_output, n_components)\n",
    "opt_R = Optimizer(learning_rate=learning_rate).minimize(loss_R, var_list=vars_R)\n",
    "\n",
    "# create the combined loss function (for the classifier)\n",
    "loss_DR = loss_D - lam*loss_R\n",
    "opt_DR = Optimizer(learning_rate=learning_rate).minimize(loss_DR, var_list=vars_D)\n",
    "\n",
    "# initialise the variables\n",
    "sess.run(tf.global_variables_initializer())\n",
    "\n",
    "# pretrain the classifier\n",
    "actions.train(sess, opt_D, loss_D, inputs, generate_toys, n_samples, n_epochs, 'Classifier Loss (L_D)')\n",
    "\n",
    "# pretrain the adversary\n",
    "actions.train(sess, opt_R, loss_R, inputs, generate_toys, n_samples, n_epochs, 'Adversary Loss (L_R)')\n",
    "\n",
    "# now do the adversarial part (modifed loss function for the classifier)\n",
    "losses = [loss_D, loss_R, loss_DR]\n",
    "opts = [None, opt_R, opt_DR]\n",
    "actions.train_adversarially(sess, losses, opts, inputs, generate_toys, n_samples, n_adv_cycles, n_clf, n_adv, 'Gauss Mix')\n",
    "\n",
    "# plot the performance of the classifier\n",
    "pred = utils.sigmoid(sess.run(clf_output, feed_dict={x_in:X, y_in:Y}))\n",
    "pred1 = utils.sigmoid(sess.run(clf_output, feed_dict={x_in:X1, y_in:Y1}))\n",
    "pred0 = utils.sigmoid(sess.run(clf_output, feed_dict={x_in:X0, y_in:Y0}))\n",
    "pred_1 = utils.sigmoid(sess.run(clf_output, feed_dict={x_in:X_1, y_in:Y_1}))\n",
    "test_data['preds'] = pred, pred1, pred0, pred_1\n",
    "plotting.plot_classifier_performance(test_data, 'media/plots/classifier_GaussMixAdv')\n"
   ]
  },
  {
   "cell_type": "markdown",
   "metadata": {},
   "source": [
    "# Adversarial training (MINE)\n",
    "\n",
    "Train adversarially against MINE adversary."
   ]
  },
  {
   "cell_type": "code",
   "execution_count": null,
   "metadata": {
    "scrolled": false
   },
   "outputs": [],
   "source": [
    "\n",
    "ctr+=1\n",
    "name = 'name'+str(ctr)\n",
    "\n",
    "# input placeholders\n",
    "x_in = tf.placeholder(tf.float32, shape=(None, 2), name='X12')\n",
    "y_in = tf.placeholder(tf.float32, shape=(None, ), name='Y')\n",
    "z_in = tf.placeholder(tf.float32, shape=(None, ), name='Z')\n",
    "inputs = [x_in, y_in, z_in]\n",
    "\n",
    "# create the classifier graph, loss, and optimisation\n",
    "clf_output, vars_D = models.classifier(x_in, name+'_clf')\n",
    "loss_D = models.classifier_loss(clf_output, y_in)\n",
    "opt_D = Optimizer(learning_rate=learning_rate).minimize(loss_D, var_list=vars_D)\n",
    "\n",
    "# create the adversary graph, loss, and optimisation\n",
    "T_xy, T_x_y, vars_R = models.MINE(clf_output, z_in, name+'_adv', deep=True)\n",
    "loss_R = models.MINE_loss(T_xy, T_x_y)\n",
    "opt_R = Optimizer(learning_rate=learning_rate).minimize(loss_R, var_list=vars_R)\n",
    "\n",
    "# create the combined loss function (for the classifier)\n",
    "loss_DR = loss_D - lam*loss_R\n",
    "opt_DR = Optimizer(learning_rate=learning_rate).minimize(loss_DR, var_list=vars_D)\n",
    "\n",
    "# initialise the variables\n",
    "sess.run(tf.global_variables_initializer())\n",
    "\n",
    "# pretrain the classifier\n",
    "actions.train(sess, opt_D, loss_D, inputs, generate_toys, n_samples, n_epochs, 'Classifier Loss (L_D)')\n",
    "\n",
    "# pretrain the adversary\n",
    "actions.train(sess, opt_R, loss_R, inputs, generate_toys, n_samples, n_epochs, 'Adversary Loss (L_R)')\n",
    "\n",
    "# now do the adversarial part (modifed loss function for the classifier)\n",
    "losses = [loss_D, loss_R, loss_DR]\n",
    "opts = [None, opt_R, opt_DR]\n",
    "actions.train_adversarially(sess, losses, opts, inputs, generate_toys, n_samples, n_adv_cycles, n_clf, n_adv, 'MINE')\n",
    "\n",
    "# plot the performance of the classifier\n",
    "pred = utils.sigmoid(sess.run(clf_output, feed_dict={x_in:X, y_in:Y}))\n",
    "pred1 = utils.sigmoid(sess.run(clf_output, feed_dict={x_in:X1, y_in:Y1}))\n",
    "pred0 = utils.sigmoid(sess.run(clf_output, feed_dict={x_in:X0, y_in:Y0}))\n",
    "pred_1 = utils.sigmoid(sess.run(clf_output, feed_dict={x_in:X_1, y_in:Y_1}))\n",
    "test_data['preds'] = pred, pred1, pred0, pred_1\n",
    "plotting.plot_classifier_performance(test_data, 'media/plots/classifier_MINE')"
   ]
  },
  {
   "cell_type": "markdown",
   "metadata": {},
   "source": [
    "# Adversarial Training (prediction+projection)"
   ]
  },
  {
   "cell_type": "code",
   "execution_count": null,
   "metadata": {},
   "outputs": [],
   "source": [
    "import tensorflow.contrib.layers as layers\n",
    "\n",
    "def adversary_regression(clf_output, name):\n",
    "    \n",
    "    with tf.variable_scope(name):\n",
    "        \n",
    "        # one hidden layer\n",
    "        layer = layers.relu(clf_output, 10)\n",
    "        \n",
    "        # and the output\n",
    "        output = layers.linear(layer, 1)\n",
    "    \n",
    "    # get the variables\n",
    "    these_vars = tf.get_collection(tf.GraphKeys.GLOBAL_VARIABLES, scope=name)\n",
    "\n",
    "    return output, these_vars\n",
    "    \n",
    "def adversary_regression_loss(z_in, adv_output):\n",
    "    \n",
    "    # define the loss\n",
    "    z_in = tf.reshape(z_in, shape=(-1, 1))\n",
    "    loss = tf.reduce_mean((z_in-adv_output)**2)\n",
    "    \n",
    "    return loss"
   ]
  },
  {
   "cell_type": "code",
   "execution_count": null,
   "metadata": {
    "scrolled": false
   },
   "outputs": [],
   "source": [
    "import numpy as np\n",
    "from pprint import pprint\n",
    "\n",
    "projection = True\n",
    "ctr+=1\n",
    "name = 'name'+str(ctr)\n",
    "\n",
    "# input placeholders\n",
    "x_in = tf.placeholder(tf.float32, shape=(None, 2), name='X12')\n",
    "y_in = tf.placeholder(tf.float32, shape=(None, ), name='Y')\n",
    "z_in = tf.placeholder(tf.float32, shape=(None, ), name='Z')\n",
    "inputs = [x_in, y_in, z_in]\n",
    "\n",
    "# create the classifier graph, loss, and optimisation\n",
    "clf_output, vars_D = models.classifier(x_in, name+'_clf')\n",
    "loss_D = models.classifier_loss(clf_output, y_in)\n",
    "Optimizer_D = Optimizer(learning_rate=learning_rate)\n",
    "opt_D = Optimizer_D.minimize(loss_D, var_list=vars_D)\n",
    "\n",
    "# create the adversary graph, loss, and optimisation\n",
    "adv_output, vars_R = adversary_regression(clf_output, name+'_adv')\n",
    "loss_R = adversary_regression_loss(z_in, adv_output)\n",
    "Optimizer_R = Optimizer(learning_rate=learning_rate)\n",
    "opt_R = Optimizer_R.minimize(loss_R, var_list=vars_R)\n",
    "\n",
    "# create the combined loss function (for the classifier)\n",
    "Optimizer_DR = Optimizer(learning_rate=learning_rate)\n",
    "normalize = lambda x: x / (tf.norm(x) + np.finfo(np.float32).tiny)\n",
    "loss_DR = loss_D - lam*loss_R\n",
    "if projection:\n",
    "\n",
    "    adversary_grads = {var:grad for (grad, var) in Optimizer_R.compute_gradients(loss_R, var_list=vars_D)}\n",
    "    classifier_grads = []\n",
    "    for (grad, var) in Optimizer_D.compute_gradients(loss_D, var_list=vars_D):\n",
    "        g = grad\n",
    "        h = - lam * adversary_grads[var]\n",
    "        h_norm = normalize(h)\n",
    "        proj = tf.reduce_sum(h_norm * g) * h_norm\n",
    "        classifier_grads.append((g + h - proj, var))\n",
    "        \n",
    "    opt_DR = Optimizer_D.apply_gradients(classifier_grads)\n",
    "\n",
    "    \n",
    "else:\n",
    "    GRADIENTS = Optimizer_DR.compute_gradients(loss_DR, var_list=vars_D)\n",
    "    opt_DR = Optimizer_DR.apply_gradients(GRADIENTS)\n",
    "    #opt_DR = Optimizer_DR.minimize(loss_DR, var_list=vars_D)\n",
    "\n",
    "# initialise the variables\n",
    "sess.run(tf.global_variables_initializer())\n",
    "\n",
    "# pretrain the classifier\n",
    "actions.train(sess, opt_D, loss_D, inputs, generate_toys, n_samples, n_epochs, 'Classifier Loss (L_D)')\n",
    "\n",
    "# pretrain the adversary\n",
    "actions.train(sess, opt_R, loss_R, inputs, generate_toys, n_samples, n_epochs, 'Adversary Loss (L_R)')\n",
    "\n",
    "# now do the adversarial part (modifed loss function for the classifier)\n",
    "losses = [loss_D, loss_R, loss_DR]\n",
    "opts = [None, opt_R, opt_DR]\n",
    "actions.train_adversarially(sess, losses, opts, inputs, generate_toys, n_samples, n_adv_cycles, n_clf, n_adv, 'point_estimate')\n",
    "\n",
    "# plot the performance of the classifier\n",
    "pred = utils.sigmoid(sess.run(clf_output, feed_dict={x_in:X, y_in:Y}))\n",
    "pred1 = utils.sigmoid(sess.run(clf_output, feed_dict={x_in:X1, y_in:Y1}))\n",
    "pred0 = utils.sigmoid(sess.run(clf_output, feed_dict={x_in:X0, y_in:Y0}))\n",
    "pred_1 = utils.sigmoid(sess.run(clf_output, feed_dict={x_in:X_1, y_in:Y_1}))\n",
    "test_data['preds'] = pred, pred1, pred0, pred_1\n",
    "plotting.plot_classifier_performance(test_data, 'media/plots/classifier_projection')"
   ]
  },
  {
   "cell_type": "code",
   "execution_count": null,
   "metadata": {},
   "outputs": [],
   "source": []
  },
  {
   "cell_type": "code",
   "execution_count": null,
   "metadata": {},
   "outputs": [],
   "source": []
  }
 ],
 "metadata": {
  "kernelspec": {
   "display_name": "Python (tf)",
   "language": "python",
   "name": "tf"
  },
  "language_info": {
   "codemirror_mode": {
    "name": "ipython",
    "version": 3
   },
   "file_extension": ".py",
   "mimetype": "text/x-python",
   "name": "python",
   "nbconvert_exporter": "python",
   "pygments_lexer": "ipython3",
   "version": "3.6.6"
  }
 },
 "nbformat": 4,
 "nbformat_minor": 2
}
