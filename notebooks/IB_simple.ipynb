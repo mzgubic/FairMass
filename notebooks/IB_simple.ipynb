{
 "cells": [
  {
   "cell_type": "code",
   "execution_count": null,
   "metadata": {},
   "outputs": [],
   "source": [
    "import tensorflow as tf\n",
    "import tensorflow.contrib.layers as layers\n",
    "import numpy as np\n",
    "import matplotlib.pyplot as plt\n",
    "\n",
    "import sys\n",
    "sys.path.insert(0, '../fairml')\n",
    "#import plotting\n",
    "#import generate\n",
    "import models\n",
    "#import actions\n",
    "#import utils"
   ]
  },
  {
   "cell_type": "code",
   "execution_count": null,
   "metadata": {},
   "outputs": [],
   "source": [
    "config = tf.ConfigProto(intra_op_parallelism_threads=8, inter_op_parallelism_threads=8, \\\n",
    "                        allow_soft_placement=True, device_count = {'CPU': 8})\n",
    "sess = tf.InteractiveSession(config = config)"
   ]
  },
  {
   "cell_type": "code",
   "execution_count": null,
   "metadata": {},
   "outputs": [],
   "source": [
    "def prepare_data(n_samples):\n",
    "    data = []\n",
    "    pois = []\n",
    "    nuisances = []\n",
    "    \n",
    "    for i in range(n_samples):\n",
    "        poi = np.random.uniform(low = 0.0, high = 1.0)\n",
    "        nuisance = np.random.uniform(low = 0.0, high = 1.0)\n",
    "                \n",
    "        datum = np.random.multivariate_normal(mean = [poi, nuisance], cov = np.array([[1, 0.2], [0.2, 1]]))\n",
    "        \n",
    "        data.append(datum)\n",
    "        pois.append(poi)\n",
    "        nuisances.append(nuisance)\n",
    "        \n",
    "        #pois.append(nuisance)\n",
    "        #nuisances.append(poi)\n",
    "        \n",
    "    return np.array(data), np.array(pois), np.array(nuisances)"
   ]
  },
  {
   "cell_type": "code",
   "execution_count": null,
   "metadata": {},
   "outputs": [],
   "source": [
    "data_train, pois_train, nuisances_train = prepare_data(8000)\n",
    "nuisances_train = np.expand_dims(nuisances_train, axis = 1)\n",
    "pois_train = np.expand_dims(pois_train, axis = 1)"
   ]
  },
  {
   "cell_type": "code",
   "execution_count": null,
   "metadata": {},
   "outputs": [],
   "source": [
    "plt.hexbin(x = data_train[:, 0], y = data_train[:, 1], bins = 'log', gridsize = 50)\n",
    "plt.colorbar()\n",
    "ax = plt.gca()\n",
    "ax.set_xlim([-3, 4])\n",
    "ax.set_ylim([-3, 4])\n",
    "plt.savefig(\"toy_filterdataset.pdf\")\n",
    "plt.show()"
   ]
  },
  {
   "cell_type": "code",
   "execution_count": null,
   "metadata": {},
   "outputs": [],
   "source": [
    "def filter_network(filter_input):\n",
    "    with tf.variable_scope(\"filter\"):\n",
    "        lay = layers.relu(filter_input, 20)\n",
    "        lay = layers.relu(lay, 20)\n",
    "        outputs = layers.linear(lay, 1)\n",
    "        \n",
    "    these_vars = tf.get_collection(tf.GraphKeys.GLOBAL_VARIABLES, scope = \"filter\")\n",
    "\n",
    "    return outputs, these_vars"
   ]
  },
  {
   "cell_type": "code",
   "execution_count": null,
   "metadata": {
    "scrolled": false
   },
   "outputs": [],
   "source": [
    "# prepare input tensors\n",
    "data_in = tf.placeholder(tf.float32, [None, 2], name = 'data_in')\n",
    "nuisances_in = tf.placeholder(tf.float32, [None, 1], name = 'nuisances_in')\n",
    "pois_in = tf.placeholder(tf.float32, [None, 1], name = 'pois_in')\n",
    "\n",
    "filter_output, filter_vars = filter_network(data_in)\n",
    "\n",
    "# prepare the two MINE blocks connected to the filter output\n",
    "T1_nuis, T2_nuis, MINE_vars_nuis = models.MINE(filter_output, nuisances_in, \"MINE_nuis\")\n",
    "T1_pois, T2_pois, MINE_vars_pois = models.MINE(filter_output, pois_in, \"MINE_pois\")\n",
    "\n",
    "# upon convergence, the MINE losses below give the negative mutual information\n",
    "MINE_loss_nuis = models.MINE_loss(T1_nuis, T2_nuis)\n",
    "MINE_loss_pois = models.MINE_loss(T1_pois, T2_pois)\n",
    "\n",
    "# MINE optimizers\n",
    "train_MINE_pois = tf.train.AdamOptimizer(learning_rate = 0.01, beta1 = 0.3, beta2 = 0.5).minimize(MINE_loss_nuis, var_list = MINE_vars_nuis)\n",
    "train_MINE_nuis = tf.train.AdamOptimizer(learning_rate = 0.01, beta1 = 0.3, beta2 = 0.5).minimize(MINE_loss_pois, var_list = MINE_vars_pois)\n",
    "\n",
    "# total loss\n",
    "total_loss = MINE_loss_pois - 3 * MINE_loss_nuis\n",
    "\n",
    "# filter optimizer\n",
    "train_filter = tf.train.AdamOptimizer(learning_rate = 0.005, beta1 = 0.3, beta2 = 0.5).minimize(total_loss, var_list = filter_vars)"
   ]
  },
  {
   "cell_type": "code",
   "execution_count": null,
   "metadata": {},
   "outputs": [],
   "source": [
    "sess.run(tf.global_variables_initializer())\n",
    "\n",
    "MINE_init_epochs = 200\n",
    "batches_per_epoch = 200\n",
    "number_epochs = 3\n",
    "batch_size = 200\n",
    "\n",
    "# pre-train MINE blocks\n",
    "for epoch in range(MINE_init_epochs):\n",
    "    sess.run(train_MINE_pois, feed_dict = {data_in: data_train, nuisances_in: nuisances_train, pois_in: pois_train})\n",
    "    sess.run(train_MINE_nuis, feed_dict = {data_in: data_train, nuisances_in: nuisances_train, pois_in: pois_train})\n",
    "    \n",
    "# initial MI values        \n",
    "MI_pois = -sess.run(MINE_loss_pois, feed_dict = {data_in: data_train, nuisances_in: nuisances_train, pois_in: pois_train})\n",
    "MI_nuis = -sess.run(MINE_loss_nuis, feed_dict = {data_in: data_train, nuisances_in: nuisances_train, pois_in: pois_train})\n",
    "\n",
    "print(\"MI_nuis = {}, MI_pois = {}\".format(MI_nuis, MI_pois))\n",
    "\n",
    "for epochs in range(number_epochs):\n",
    "    for batch in range(batches_per_epoch):\n",
    "        # prepare batch training data\n",
    "        inds = np.random.choice(len(data_train), batch_size)\n",
    "        data_batch = data_train[inds]\n",
    "        pois_batch = pois_train[inds]\n",
    "        nuis_batch = nuisances_train[inds]\n",
    "\n",
    "        # update MINE\n",
    "        sess.run(train_MINE_pois, feed_dict = {data_in: data_train, nuisances_in: nuisances_train, pois_in: pois_train})\n",
    "        sess.run(train_MINE_nuis, feed_dict = {data_in: data_train, nuisances_in: nuisances_train, pois_in: pois_train})\n",
    "\n",
    "        # update filter\n",
    "        sess.run(train_filter, feed_dict = {data_in: data_batch, nuisances_in: nuis_batch, pois_in: pois_batch})\n",
    "\n",
    "        if not batch % 100:\n",
    "            # debug output\n",
    "            MI_pois = -sess.run(MINE_loss_pois, feed_dict = {data_in: data_train, nuisances_in: nuisances_train, pois_in: pois_train})\n",
    "            MI_nuis = -sess.run(MINE_loss_nuis, feed_dict = {data_in: data_train, nuisances_in: nuisances_train, pois_in: pois_train})\n",
    "\n",
    "            print(\"MI_nuis = {}, MI_pois = {}\".format(MI_nuis, MI_pois))\n",
    "\n",
    "# look at the filter output as a function of the incoming random variable\n",
    "data_test = np.random.uniform(low = -4, high = 4, size = [50000, 2])\n",
    "\n",
    "pred = sess.run(filter_output, feed_dict = {data_in: data_test})\n",
    "\n",
    "def plot_contour(data_xy, data_z, x_low = -4, x_high = 4 , y_low = -4, y_high = 4):\n",
    "    from matplotlib.mlab import griddata\n",
    "    \n",
    "    xi = np.linspace(x_low, x_high, 1000)\n",
    "    yi = np.linspace(y_low, y_high, 1000)\n",
    "    zi = griddata(data_xy[:, 0], data_xy[:, 1], data_z, xi, yi, interp = \"linear\")\n",
    "\n",
    "    plt.contourf(xi, yi, zi, interp='linear', levels = 20)\n",
    "    plt.xlabel('x')\n",
    "    plt.ylabel('y')\n",
    "    plt.colorbar()\n",
    "    \n",
    "plot_contour(data_test, pred.flatten())\n",
    "\n",
    "plt.savefig(\"information_filter_contours_f1.pdf\")\n",
    "plt.show()"
   ]
  },
  {
   "cell_type": "code",
   "execution_count": null,
   "metadata": {},
   "outputs": [],
   "source": []
  }
 ],
 "metadata": {
  "kernelspec": {
   "display_name": "Python (tf)",
   "language": "python",
   "name": "tf"
  },
  "language_info": {
   "codemirror_mode": {
    "name": "ipython",
    "version": 3
   },
   "file_extension": ".py",
   "mimetype": "text/x-python",
   "name": "python",
   "nbconvert_exporter": "python",
   "pygments_lexer": "ipython3",
   "version": "3.6.6"
  }
 },
 "nbformat": 4,
 "nbformat_minor": 2
}
