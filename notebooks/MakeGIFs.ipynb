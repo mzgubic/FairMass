{
 "cells": [
  {
   "cell_type": "code",
   "execution_count": null,
   "metadata": {},
   "outputs": [],
   "source": [
    "import os\n",
    "import tensorflow as tf\n",
    "import numpy as np\n",
    "import matplotlib.pyplot as plt\n",
    "\n",
    "import sys\n",
    "sys.path.insert(0, '/Users/zgubic/Projects/FairMass/fairmass')\n",
    "import plotting\n",
    "import generate\n",
    "import models\n",
    "import actions\n",
    "import utils"
   ]
  },
  {
   "cell_type": "code",
   "execution_count": null,
   "metadata": {},
   "outputs": [],
   "source": [
    "# generate test data (a large, one time only thing)\n",
    "n_test_samples = 100000\n",
    "\n",
    "X, Y, Z = generate.generate_toys(n_test_samples)\n",
    "X1, Y1, Z1 = generate.generate_toys(n_test_samples, z=1)\n",
    "X0, Y0, Z0 = generate.generate_toys(n_test_samples, z=0)\n",
    "X_1, Y_1, Z_1 = generate.generate_toys(n_test_samples, z=-1)\n",
    "\n",
    "test_data = {}\n",
    "test_data['all Z'] = X, Y, Z\n",
    "test_data['Z=1'] = X1, Y1, Z1\n",
    "test_data['Z=0'] = X0, Y0, Z0\n",
    "test_data['Z=-1'] = X_1, Y_1, Z_1"
   ]
  },
  {
   "cell_type": "markdown",
   "metadata": {},
   "source": [
    "# Pivoting NLL GIF\n",
    "\n",
    "Animation showing the evolution of the classifier predictions when using the NLL adversary."
   ]
  },
  {
   "cell_type": "code",
   "execution_count": null,
   "metadata": {},
   "outputs": [],
   "source": [
    "sess = tf.InteractiveSession()\n",
    "ctr = 0"
   ]
  },
  {
   "cell_type": "code",
   "execution_count": null,
   "metadata": {},
   "outputs": [],
   "source": [
    "n_samples = 5000\n",
    "n_epochs = 30\n",
    "n_adv_cycles = 100\n",
    "n_components = 5\n",
    "n_clf = 1\n",
    "n_adv = 5\n",
    "lam = 50\n",
    "ctr+=1\n",
    "name = 'name'+str(ctr)\n",
    "    \n",
    "# input placeholders\n",
    "x_in = tf.placeholder(tf.float32, shape=(None, 2), name='X12')\n",
    "y_in = tf.placeholder(tf.float32, shape=(None, ), name='Y')\n",
    "z_in = tf.placeholder(tf.float32, shape=(None, ), name='Z')\n",
    "inputs = [x_in, y_in, z_in]\n",
    "\n",
    "# create the classifier graph, loss, and optimisation\n",
    "clf_output, vars_D = models.classifier(x_in, name+'_clf')\n",
    "loss_D = models.classifier_loss(clf_output, y_in)\n",
    "opt_D = tf.train.AdamOptimizer(learning_rate=0.01).minimize(loss_D, var_list=vars_D)\n",
    "\n",
    "# create the adversary graph, loss, and optimisation\n",
    "adv_output, vars_R = models.adversary_gaussmix(clf_output, n_components, name+'_adv')\n",
    "loss_R = models.adversary_gaussmix_loss(z_in, adv_output, n_components)\n",
    "opt_R = tf.train.AdamOptimizer(learning_rate=0.01).minimize(loss_R, var_list=vars_R)\n",
    "\n",
    "# create the combined loss function (for the classifier)\n",
    "loss_DR = loss_D - lam*loss_R\n",
    "opt_DR = tf.train.AdamOptimizer(learning_rate=0.005).minimize(loss_DR, var_list=vars_D)\n",
    "\n",
    "# initialise the variables\n",
    "sess.run(tf.global_variables_initializer())\n",
    "\n",
    "# pretrain the classifier\n",
    "actions.train(sess, opt_D, loss_D, inputs, generate.generate_toys, n_samples, n_epochs, 'Classifier Loss (L_D)')\n",
    "\n",
    "# pretrain the adversary\n",
    "actions.train(sess, opt_R, loss_R, inputs, generate.generate_toys, n_samples, n_epochs, 'Adversary Loss (L_R)')\n",
    "\n",
    "# now do the adversarial part (modifed loss function for the classifier)\n",
    "losses = [loss_D, loss_R, loss_DR]\n",
    "opts = [None, opt_R, opt_DR]\n",
    "feed_dict = {x_in:X, y_in:Y, z_in:Z}\n",
    "\n"
   ]
  },
  {
   "cell_type": "code",
   "execution_count": null,
   "metadata": {
    "scrolled": false
   },
   "outputs": [],
   "source": [
    "NLLs = []\n",
    "plot_names = ['Z_density_slices', 'Clf_perf']\n",
    "for cycle in range(n_adv_cycles):\n",
    "    \n",
    "    # training step\n",
    "    batch = True\n",
    "    if cycle%10==0:\n",
    "        print('{}/{}'.format(cycle,n_adv_cycles))\n",
    "        batch = False\n",
    "    actions.train_adversarially(sess, losses, opts, inputs, generate.generate_toys, n_samples, 1, n_clf, n_adv, None)\n",
    "    \n",
    "    # evaluate the graphs\n",
    "    NLL, fX = sess.run([loss_R, clf_output], feed_dict=feed_dict)\n",
    "    NLLs.append(NLL)\n",
    "    fX = fX.reshape(-1)\n",
    "    \n",
    "    #####################\n",
    "    # Z density plot\n",
    "    #####################\n",
    "    \n",
    "    plot_name = 'Z_density_slices'\n",
    "    dirn = 'media/plots/{}'.format(plot_name)\n",
    "    if not os.path.exists(dirn):\n",
    "        os.makedirs(dirn)\n",
    "    path = '{d}/{p}_{c:03}.png'.format(d=dirn, p=plot_name, c=cycle)\n",
    "        \n",
    "    plotting.plot_Z_density(Z, fX, NLLs, n_adv_cycles, n_curves=3, pname=path, batch=batch)\n",
    "    \n",
    "    #####################\n",
    "    # Classifier performance plot\n",
    "    #####################\n",
    "    \n",
    "    # name of the plot\n",
    "    plot_name = 'Clf_perf'\n",
    "    dirn = 'media/plots/{}'.format(plot_name)\n",
    "    if not os.path.exists(dirn):\n",
    "        os.makedirs(dirn)\n",
    "    path = '{d}/{n}_{c:03}.png'.format(d=dirn, n=plot_name, c=cycle)\n",
    "    \n",
    "    # make the plot\n",
    "    pred = utils.sigmoid(sess.run(clf_output, feed_dict={x_in:X, y_in:Y}))\n",
    "    pred1 = utils.sigmoid(sess.run(clf_output, feed_dict={x_in:X1, y_in:Y1}))\n",
    "    pred0 = utils.sigmoid(sess.run(clf_output, feed_dict={x_in:X0, y_in:Y0}))\n",
    "    pred_1 = utils.sigmoid(sess.run(clf_output, feed_dict={x_in:X_1, y_in:Y_1}))\n",
    "    test_data['preds'] = pred, pred1, pred0, pred_1\n",
    "    plotting.plot_classifier_performance(test_data, path, batch=batch)\n",
    "    \n",
    "\n",
    "for pname in plot_names:\n",
    "    print()\n",
    "    dirn = 'media/plots/{}'.format(pname)\n",
    "    inputs = ' '.join(['{d}/{p}_{c:03}.png'.format(d=dirn, p=pname, c=c) for c in range(n_adv_cycles)])\n",
    "    print(inputs)\n",
    "    os.system('convert -loop 0 -delay 10 {i} media/gifs/{p}_{c}.gif'.format(i=inputs, p=pname, c=n_adv_cycles))\n",
    "    #os.system('rm {d}/{p}_*.png'.format(d=dirn, p=pname))"
   ]
  },
  {
   "cell_type": "code",
   "execution_count": null,
   "metadata": {
    "scrolled": false
   },
   "outputs": [],
   "source": []
  },
  {
   "cell_type": "code",
   "execution_count": null,
   "metadata": {},
   "outputs": [],
   "source": []
  }
 ],
 "metadata": {
  "kernelspec": {
   "display_name": "Python (tf)",
   "language": "python",
   "name": "tf"
  },
  "language_info": {
   "codemirror_mode": {
    "name": "ipython",
    "version": 3
   },
   "file_extension": ".py",
   "mimetype": "text/x-python",
   "name": "python",
   "nbconvert_exporter": "python",
   "pygments_lexer": "ipython3",
   "version": "3.6.6"
  }
 },
 "nbformat": 4,
 "nbformat_minor": 2
}
